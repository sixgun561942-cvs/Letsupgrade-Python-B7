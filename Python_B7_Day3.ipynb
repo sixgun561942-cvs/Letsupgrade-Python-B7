{
  "nbformat": 4,
  "nbformat_minor": 0,
  "metadata": {
    "colab": {
      "name": "Python B7 Day3",
      "provenance": [],
      "collapsed_sections": [],
      "authorship_tag": "ABX9TyMPowGp4opCibQgOWUJ9sYw",
      "include_colab_link": true
    },
    "kernelspec": {
      "name": "python3",
      "display_name": "Python 3"
    }
  },
  "cells": [
    {
      "cell_type": "markdown",
      "metadata": {
        "id": "view-in-github",
        "colab_type": "text"
      },
      "source": [
        "<a href=\"https://colab.research.google.com/github/sixgun561942-cvs/Letsupgrade-Python-B7/blob/master/Python_B7_Day3.ipynb\" target=\"_parent\"><img src=\"https://colab.research.google.com/assets/colab-badge.svg\" alt=\"Open In Colab\"/></a>"
      ]
    },
    {
      "cell_type": "markdown",
      "metadata": {
        "id": "B2aaHoDEMF9H",
        "colab_type": "text"
      },
      "source": [
        "# Assignment-1, Day-3"
      ]
    },
    {
      "cell_type": "markdown",
      "metadata": {
        "id": "vkZb_cMLDeDJ",
        "colab_type": "text"
      },
      "source": [
        " You all are pilots, You have to land a plane, the altitude required for landing a plane is 1000ft, If it is less than that tell pilot to \"land the plan\",or it is more than that but less than 5000ft ask the pilot to \"Come down to 1000ft\",else if it is more than 5000ft ask the pilot to \"Go around Try later\"."
      ]
    },
    {
      "cell_type": "code",
      "metadata": {
        "id": "e8r2YspzMWs4",
        "colab_type": "code",
        "colab": {
          "base_uri": "https://localhost:8080/",
          "height": 51
        },
        "outputId": "9f6ab937-df6a-4211-fa7d-fe22767f6d44"
      },
      "source": [
        "num=input(\"Enter any Number- ft\")\n",
        "num=int(num)\n",
        "if num<= 1000:\n",
        "    print(\" Land the plane \")\n",
        "elif  num>1000 and num<=5000:\n",
        "    print(\" Come down to 1000ft \")\n",
        "else :\n",
        "    print(\" Go around and try later \")"
      ],
      "execution_count": null,
      "outputs": [
        {
          "output_type": "stream",
          "text": [
            "Enter any Number- ft3400\n",
            " Come down to 1000ft \n"
          ],
          "name": "stdout"
        }
      ]
    },
    {
      "cell_type": "markdown",
      "metadata": {
        "id": "LIoZF8VKvYbN",
        "colab_type": "text"
      },
      "source": [
        "# Assignment-2, Day-3"
      ]
    },
    {
      "cell_type": "markdown",
      "metadata": {
        "id": "dDNgf8ufEyTd",
        "colab_type": "text"
      },
      "source": [
        "Using for loop please print all \"Prime Numbers\" between (1-200) using For loop and Range function."
      ]
    },
    {
      "cell_type": "code",
      "metadata": {
        "id": "nvNbWpa8veCw",
        "colab_type": "code",
        "colab": {
          "base_uri": "https://localhost:8080/",
          "height": 837
        },
        "outputId": "d1466510-b61d-47d8-9f21-85c528fa6587"
      },
      "source": [
        "for num in range(1,200):\n",
        "    count=0\n",
        "    for i in range(2,(num//2+1)):\n",
        "     if (num%i==0):\n",
        "        count=count+1\n",
        "        break\n",
        "    if (count==0 and num !=1):\n",
        "        print(\"%d\" %num)\n",
        "else:\n",
        "    print(\"  \")\n",
        "    print(\"Hey loop of Prime numbers is Done \")"
      ],
      "execution_count": 159,
      "outputs": [
        {
          "output_type": "stream",
          "text": [
            "2\n",
            "3\n",
            "5\n",
            "7\n",
            "11\n",
            "13\n",
            "17\n",
            "19\n",
            "23\n",
            "29\n",
            "31\n",
            "37\n",
            "41\n",
            "43\n",
            "47\n",
            "53\n",
            "59\n",
            "61\n",
            "67\n",
            "71\n",
            "73\n",
            "79\n",
            "83\n",
            "89\n",
            "97\n",
            "101\n",
            "103\n",
            "107\n",
            "109\n",
            "113\n",
            "127\n",
            "131\n",
            "137\n",
            "139\n",
            "149\n",
            "151\n",
            "157\n",
            "163\n",
            "167\n",
            "173\n",
            "179\n",
            "181\n",
            "191\n",
            "193\n",
            "197\n",
            "199\n",
            "  \n",
            "Hey loop of Prime numbers is Done \n"
          ],
          "name": "stdout"
        }
      ]
    }
  ]
}