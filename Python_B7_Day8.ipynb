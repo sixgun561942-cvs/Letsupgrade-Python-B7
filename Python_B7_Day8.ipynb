{
  "nbformat": 4,
  "nbformat_minor": 0,
  "metadata": {
    "colab": {
      "name": "Python B7 Day8.ipynb",
      "provenance": [],
      "collapsed_sections": [],
      "authorship_tag": "ABX9TyMgLKHeR72bJBbvRsQls097",
      "include_colab_link": true
    },
    "kernelspec": {
      "name": "python3",
      "display_name": "Python 3"
    }
  },
  "cells": [
    {
      "cell_type": "markdown",
      "metadata": {
        "id": "view-in-github",
        "colab_type": "text"
      },
      "source": [
        "<a href=\"https://colab.research.google.com/github/sixgun561942-cvs/Letsupgrade-Python-B7/blob/master/Python_B7_Day8.ipynb\" target=\"_parent\"><img src=\"https://colab.research.google.com/assets/colab-badge.svg\" alt=\"Open In Colab\"/></a>"
      ]
    },
    {
      "cell_type": "markdown",
      "metadata": {
        "id": "kA8Yt-1MU2m4",
        "colab_type": "text"
      },
      "source": [
        "# Assignment-1, Day-8"
      ]
    },
    {
      "cell_type": "markdown",
      "metadata": {
        "id": "QTuJKFiZbH-B",
        "colab_type": "text"
      },
      "source": [
        "Write a decorator function for your taking input for you any kind function you want to build,\n",
        "\n",
        "For example-You make a fibonacci series function, in which you input range is been defined by the decorator program input."
      ]
    },
    {
      "cell_type": "code",
      "metadata": {
        "id": "Isa57hcWU7ZB",
        "colab_type": "code",
        "colab": {}
      },
      "source": [
        "def fibonacci(inputFunction):\n",
        "        def inner():\n",
        "                startNum, endNum=inputFunction()\n",
        "                lst=[0,1]\n",
        "                i=1\n",
        "                while(i<=endNum):\n",
        "                      if(i>=startNum):\n",
        "                          print(lst[i])\n",
        "                      lst.append(lst[-1]+lst[-2])\n",
        "                      i+=1\n",
        "        return inner\n",
        "        \n",
        "@fibonacci\n",
        "def inputFunction():\n",
        "        return int(input('Enter Start Number:')), int(input('Enter End Number:'))"
      ],
      "execution_count": null,
      "outputs": []
    },
    {
      "cell_type": "code",
      "metadata": {
        "id": "PIH0V3YqWPTg",
        "colab_type": "code",
        "colab": {
          "base_uri": "https://localhost:8080/",
          "height": 307
        },
        "outputId": "3e6dd6b0-384f-4d7c-d96e-1d465f10a741"
      },
      "source": [
        "inputFunction()"
      ],
      "execution_count": null,
      "outputs": [
        {
          "output_type": "stream",
          "text": [
            "Enter Start Number:0\n",
            "Enter End Number:15\n",
            "1\n",
            "1\n",
            "2\n",
            "3\n",
            "5\n",
            "8\n",
            "13\n",
            "21\n",
            "34\n",
            "55\n",
            "89\n",
            "144\n",
            "233\n",
            "377\n",
            "610\n"
          ],
          "name": "stdout"
        }
      ]
    },
    {
      "cell_type": "code",
      "metadata": {
        "id": "tJJMmwojcp83",
        "colab_type": "code",
        "colab": {
          "base_uri": "https://localhost:8080/",
          "height": 171
        },
        "outputId": "6a4f86df-82fe-4d60-cd47-36de0ca961e6"
      },
      "source": [
        "inputFunction()"
      ],
      "execution_count": null,
      "outputs": [
        {
          "output_type": "stream",
          "text": [
            "Enter Start Number:3\n",
            "Enter End Number:9\n",
            "2\n",
            "3\n",
            "5\n",
            "8\n",
            "13\n",
            "21\n",
            "34\n"
          ],
          "name": "stdout"
        }
      ]
    },
    {
      "cell_type": "markdown",
      "metadata": {
        "id": "trDRRnRXb_hU",
        "colab_type": "text"
      },
      "source": [
        "# Assignment-2, Day-8"
      ]
    },
    {
      "cell_type": "markdown",
      "metadata": {
        "id": "j1WZFmCUcDB_",
        "colab_type": "text"
      },
      "source": [
        "For this challenge you need to develop a Python program to open a file in read only mode and try writing something to it and handle the subsequent errors using Exception Handling."
      ]
    },
    {
      "cell_type": "code",
      "metadata": {
        "id": "fa8h7sZ-sZ0-",
        "colab_type": "code",
        "colab": {
          "base_uri": "https://localhost:8080/",
          "height": 71
        },
        "outputId": "34f5c3eb-2c53-4411-ebad-4703eb5dc89f"
      },
      "source": [
        " \n",
        "def main():\n",
        "    file=open(\"hellocvs.txt\",\"r\")\n",
        "    print(\"created\")\n",
        "    file.close()\n",
        " \n",
        " \n",
        "try:\n",
        "    file=open(\"hellocvs.txt\",\"r\")\n",
        "    print(\"Hello!Student of B7\")\n",
        "    file.close()\n",
        " \n",
        "except Exception as e:\n",
        "        print(e)\n",
        "finally:\n",
        "    print(\"Hey, I created this program in Mobile phone, so it is not work\")"
      ],
      "execution_count": 10,
      "outputs": [
        {
          "output_type": "stream",
          "text": [
            "[Errno 2] No such file or directory: 'hellocvs.txt'\n",
            "Hey, I created this program in Mobile phone, so it is not work\n"
          ],
          "name": "stdout"
        }
      ]
    }
  ]
}