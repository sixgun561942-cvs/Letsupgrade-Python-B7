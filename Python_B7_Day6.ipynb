{
  "nbformat": 4,
  "nbformat_minor": 0,
  "metadata": {
    "colab": {
      "name": "Python B7 Day6.ipynb",
      "provenance": [],
      "collapsed_sections": [],
      "authorship_tag": "ABX9TyOddkLXkcGzI85xjrFwLyac",
      "include_colab_link": true
    },
    "kernelspec": {
      "name": "python3",
      "display_name": "Python 3"
    }
  },
  "cells": [
    {
      "cell_type": "markdown",
      "metadata": {
        "id": "view-in-github",
        "colab_type": "text"
      },
      "source": [
        "<a href=\"https://colab.research.google.com/github/sixgun561942-cvs/Letsupgrade-Python-B7/blob/master/Python_B7_Day6.ipynb\" target=\"_parent\"><img src=\"https://colab.research.google.com/assets/colab-badge.svg\" alt=\"Open In Colab\"/></a>"
      ]
    },
    {
      "cell_type": "markdown",
      "metadata": {
        "id": "U1TrGN2lBDeA",
        "colab_type": "text"
      },
      "source": [
        "# Assignment-1, Day-6"
      ]
    },
    {
      "cell_type": "markdown",
      "metadata": {
        "id": "s0Fny0_zBJI7",
        "colab_type": "text"
      },
      "source": [
        " \n",
        "#OOPs  (P-1)\n",
        " \n",
        "Create a bank account class that has two attributes:\n",
        " \n",
        "● ownerName    \n",
        "● balance\n",
        " \n",
        "And two methods:\n",
        " \n",
        "◆ deposit   \n",
        "◆ withdraw\n",
        " \n",
        "As an added requirements, withdrawals may not exceed the available balance.\n",
        " \n",
        "Instantiate your class, make several deposits and withdrawals,and test to make sure the can't be overdrawn."
      ]
    },
    {
      "cell_type": "code",
      "metadata": {
        "id": "ovbITGtRBJwj",
        "colab_type": "code",
        "colab": {}
      },
      "source": [
        "class bankAccount(object):\n",
        "    def __init__(self,ownerName,balance):\n",
        "        self.ownerName=ownerName\n",
        "        self.balance=balance\n",
        " \n",
        "    def __str__(self):\n",
        "        return 'Account owner Name:{ownerName}\\n\\nAvailable balance is: Rs.{balance}/-'.format(ownerName=self.ownerName, balance=self.balance)\n",
        "    def deposit(self, dp_money):\n",
        "        self.balance +=dp_money\n",
        "        print('Deposit Successfully, \\nYour Available Balance is: Rs.{balance}/-'.format(balance=self.balance))\n",
        " \n",
        "    def withdraw(self, wd_money):\n",
        "        if wd_money > self.balance:\n",
        "            print('Insufficient Balance!!!')\n",
        "        else:\n",
        "            self.balance-=wd_money\n",
        "            print('Withdraw Successfully, \\nYour Available Balance is: Rs.{balance}/-'.format(balance=self.balance))"
      ],
      "execution_count": null,
      "outputs": []
    },
    {
      "cell_type": "code",
      "metadata": {
        "id": "PGtXhfpTMY8e",
        "colab_type": "code",
        "colab": {}
      },
      "source": [
        "acc1=bankAccount(' SixGun V. Shiyal', 100000)"
      ],
      "execution_count": null,
      "outputs": []
    },
    {
      "cell_type": "code",
      "metadata": {
        "id": "pMcHCBGaNOfT",
        "colab_type": "code",
        "colab": {
          "base_uri": "https://localhost:8080/",
          "height": 68
        },
        "outputId": "e0607661-f3a2-4617-8d7c-8978065e2c6f"
      },
      "source": [
        "print(acc1)"
      ],
      "execution_count": null,
      "outputs": [
        {
          "output_type": "stream",
          "text": [
            "Account owner Name: SixGun V. Shiyal\n",
            "\n",
            "Available balance is: Rs.100000/-\n"
          ],
          "name": "stdout"
        }
      ]
    },
    {
      "cell_type": "code",
      "metadata": {
        "id": "poezZR4vPawb",
        "colab_type": "code",
        "colab": {
          "base_uri": "https://localhost:8080/",
          "height": 71
        },
        "outputId": "4b0efa9c-b4ef-4d2a-c6bd-6878a0eea722"
      },
      "source": [
        "acc1.deposit(55000)"
      ],
      "execution_count": null,
      "outputs": [
        {
          "output_type": "stream",
          "text": [
            "Deposit Successfully, \n",
            "Your Available Balance is: Rs.155000/-\n"
          ],
          "name": "stdout"
        }
      ]
    },
    {
      "cell_type": "code",
      "metadata": {
        "id": "KINKY-ZrRPdD",
        "colab_type": "code",
        "colab": {
          "base_uri": "https://localhost:8080/",
          "height": 71
        },
        "outputId": "3f213873-08ac-4467-d69a-7e39d770c432"
      },
      "source": [
        "acc1.withdraw(70000)"
      ],
      "execution_count": null,
      "outputs": [
        {
          "output_type": "stream",
          "text": [
            "Withdraw Successfully, \n",
            "Your Available Balance is: Rs.85000/-\n"
          ],
          "name": "stdout"
        }
      ]
    },
    {
      "cell_type": "code",
      "metadata": {
        "id": "HZEmG3sJR_hE",
        "colab_type": "code",
        "colab": {
          "base_uri": "https://localhost:8080/",
          "height": 71
        },
        "outputId": "e9556c71-1ffd-411a-b6b3-10697ee2bdd4"
      },
      "source": [
        "acc1.withdraw(25000)"
      ],
      "execution_count": null,
      "outputs": [
        {
          "output_type": "stream",
          "text": [
            "Withdraw Successfully, \n",
            "Your Available Balance is: Rs.60000/-\n"
          ],
          "name": "stdout"
        }
      ]
    },
    {
      "cell_type": "code",
      "metadata": {
        "id": "IyjNcudZSHSK",
        "colab_type": "code",
        "colab": {
          "base_uri": "https://localhost:8080/",
          "height": 68
        },
        "outputId": "31db8667-2761-4fd5-ada9-c1df4a3f266d"
      },
      "source": [
        "print(acc1)"
      ],
      "execution_count": null,
      "outputs": [
        {
          "output_type": "stream",
          "text": [
            "Account owner Name: SixGun V. Shiyal\n",
            "\n",
            "Available balance is: Rs.60000/-\n"
          ],
          "name": "stdout"
        }
      ]
    },
    {
      "cell_type": "markdown",
      "metadata": {
        "id": "vMrLfD_DT6gO",
        "colab_type": "text"
      },
      "source": [
        "# Assignment-2, Day-6"
      ]
    },
    {
      "cell_type": "markdown",
      "metadata": {
        "id": "Ddvy0pR0T-Uq",
        "colab_type": "text"
      },
      "source": [
        "# OOPs  (P-2)\n",
        " \n",
        "Create a cone class that has two attributes:\n",
        " \n",
        "● r = radius  \n",
        "● h = height  \n",
        " \n",
        "and two methods:\n",
        " \n",
        "◆ volume - π×r^2×(h/3)  \n",
        "◆ surface area: base: π×r^2, side: π×r×√(r^2+h^2)\n",
        " \n",
        "make only one class with functions, as in where requored import Math"
      ]
    },
    {
      "cell_type": "code",
      "metadata": {
        "id": "MO_4hr8ik0fa",
        "colab_type": "code",
        "colab": {
          "base_uri": "https://localhost:8080/",
          "height": 85
        },
        "outputId": "cabd7eef-b59b-4862-f438-ede93689e5b1"
      },
      "source": [
        "import math\n",
        "pi=math.pi\n",
        "rt=math.sqrt\n",
        " \n",
        "def volume(r, h):\n",
        "    return (1/3)*pi*r*r*h\n",
        " \n",
        "def surface(r, s):\n",
        "    s=rt(r*r+h*h)\n",
        "    return pi*r*s+pi*r*r\n",
        " \n",
        "def slat(r, h):\n",
        "    return rt(r**2+h**2)\n",
        "\n",
        "r=float(5)  \n",
        "h=float(12)  \n",
        " \n",
        "print(\" \") \n",
        "print(\"Slat length of a Cone is: \",slat(r,h))\n",
        "print(\"Volume of a Cone is: \", volume(r,h))\n",
        "print(\"Surface Area of a Cone is: \",surface(r,s))"
      ],
      "execution_count": 208,
      "outputs": [
        {
          "output_type": "stream",
          "text": [
            " \n",
            "Slat length of a Cone is:  13.0\n",
            "Volume of a Cone is:  314.15926535897927\n",
            "Surface Area of a Cone is:  282.7433388230814\n"
          ],
          "name": "stdout"
        }
      ]
    },
    {
      "cell_type": "code",
      "metadata": {
        "id": "cBvsZk4zEoMJ",
        "colab_type": "code",
        "colab": {
          "base_uri": "https://localhost:8080/",
          "height": 34
        },
        "outputId": "c993e1d6-ba55-4479-9f4a-1cf68330e3a4"
      },
      "source": [
        "volume(5,12)"
      ],
      "execution_count": 209,
      "outputs": [
        {
          "output_type": "execute_result",
          "data": {
            "text/plain": [
              "314.15926535897927"
            ]
          },
          "metadata": {
            "tags": []
          },
          "execution_count": 209
        }
      ]
    },
    {
      "cell_type": "code",
      "metadata": {
        "id": "wHw89Tn9FEzv",
        "colab_type": "code",
        "colab": {
          "base_uri": "https://localhost:8080/",
          "height": 34
        },
        "outputId": "72bed3a9-a90c-4cd2-9318-03ac6f2ea367"
      },
      "source": [
        "surface(5,12)"
      ],
      "execution_count": 210,
      "outputs": [
        {
          "output_type": "execute_result",
          "data": {
            "text/plain": [
              "282.7433388230814"
            ]
          },
          "metadata": {
            "tags": []
          },
          "execution_count": 210
        }
      ]
    },
    {
      "cell_type": "code",
      "metadata": {
        "id": "eLFoUfU8FKAh",
        "colab_type": "code",
        "colab": {
          "base_uri": "https://localhost:8080/",
          "height": 34
        },
        "outputId": "7ac52ef1-38aa-4c29-c77e-70c519875d70"
      },
      "source": [
        "slat(5,12)"
      ],
      "execution_count": 211,
      "outputs": [
        {
          "output_type": "execute_result",
          "data": {
            "text/plain": [
              "13.0"
            ]
          },
          "metadata": {
            "tags": []
          },
          "execution_count": 211
        }
      ]
    }
  ]
}