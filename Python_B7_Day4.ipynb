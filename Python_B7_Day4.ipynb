{
  "nbformat": 4,
  "nbformat_minor": 0,
  "metadata": {
    "colab": {
      "name": "Python B7 Day4.ipynb",
      "provenance": [],
      "collapsed_sections": [],
      "authorship_tag": "ABX9TyPtWEzhIgbVupNNGwgG8lu5",
      "include_colab_link": true
    },
    "kernelspec": {
      "name": "python3",
      "display_name": "Python 3"
    }
  },
  "cells": [
    {
      "cell_type": "markdown",
      "metadata": {
        "id": "view-in-github",
        "colab_type": "text"
      },
      "source": [
        "<a href=\"https://colab.research.google.com/github/sixgun561942-cvs/Letsupgrade-Python-B7/blob/master/Python_B7_Day4.ipynb\" target=\"_parent\"><img src=\"https://colab.research.google.com/assets/colab-badge.svg\" alt=\"Open In Colab\"/></a>"
      ]
    },
    {
      "cell_type": "markdown",
      "metadata": {
        "id": "eYnuiFQfNyV8",
        "colab_type": "text"
      },
      "source": [
        "# Assignment-1 Day-4"
      ]
    },
    {
      "cell_type": "markdown",
      "metadata": {
        "id": "jBCyV6_NHDW1",
        "colab_type": "text"
      },
      "source": [
        "Print the first Armstrong number in the range of 1042000 to 702648265 and exit the loop as soon you encountered the first armstrong number.\n",
        "\n",
        "use while loop"
      ]
    },
    {
      "cell_type": "code",
      "metadata": {
        "id": "dfnPDwf-N3OQ",
        "colab_type": "code",
        "colab": {
          "base_uri": "https://localhost:8080/",
          "height": 34
        },
        "outputId": "f5496399-6eff-4a0a-bd49-19d9a0976e98"
      },
      "source": [
        "for num in range(1042000,702648265):\n",
        "    sum=0\n",
        "    times=0\n",
        "    item=num\n",
        "    while item>0:\n",
        "          times=times+1\n",
        "          item=item//10\n",
        "          \n",
        "    item=num\n",
        "    while item>0:\n",
        "          digit=item%10\n",
        "          sum+=digit**times\n",
        "          item//=10\n",
        " \n",
        "    if num==sum:\n",
        "        print(\"The 1st Armstrong Number is: \",num)\n",
        "        break"
      ],
      "execution_count": 13,
      "outputs": [
        {
          "output_type": "stream",
          "text": [
            "The 1st Armstrong Number is:  1741725\n"
          ],
          "name": "stdout"
        }
      ]
    }
  ]
}